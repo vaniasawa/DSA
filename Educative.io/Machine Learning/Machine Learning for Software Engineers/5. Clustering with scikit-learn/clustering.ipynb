{
 "cells": [
  {
   "cell_type": "code",
   "execution_count": null,
   "metadata": {},
   "outputs": [],
   "source": [
    "import numpy as np\n",
    "from sklearn.metrics.pairwise import cosine_similarity\n",
    "data = np.array([\n",
    "  [ 1.1,  0.3],\n",
    "  [ 2.1,  0.6],\n",
    "  [-1.1, -0.4],\n",
    "  [ 0. , -3.2]])\n",
    "cos_sims = cosine_similarity(data)\n",
    "print('{}\\n'.format(repr(cos_sims)))"
   ]
  },
  {
   "cell_type": "code",
   "execution_count": null,
   "metadata": {},
   "outputs": [],
   "source": [
    "data = np.array([\n",
    "  [ 1.1,  0.3],\n",
    "  [ 2.1,  0.6],\n",
    "  [-1.1, -0.4],\n",
    "  [ 0. , -3.2]])\n",
    "data2 = np.array([\n",
    "  [ 1.7,  0.4],\n",
    "  [ 4.2, 1.25],\n",
    "  [-8.1,  1.2]])\n",
    "cos_sims = cosine_similarity(data, data2)\n",
    "print('{}\\n'.format(repr(cos_sims)))"
   ]
  },
  {
   "cell_type": "code",
   "execution_count": null,
   "metadata": {},
   "outputs": [],
   "source": [
    "np.fill_diagonal(cos_sims, 0)"
   ]
  },
  {
   "cell_type": "code",
   "execution_count": null,
   "metadata": {},
   "outputs": [],
   "source": [
    "similar_indexes = cos_sims.argmax(axis=1)\n",
    "similar_indexes"
   ]
  },
  {
   "cell_type": "code",
   "execution_count": null,
   "metadata": {},
   "outputs": [],
   "source": [
    "data = np.array([\n",
    "  [5.1, 3.5, 1.4, 0.2],\n",
    "  [4.9, 3. , 1.4, 0.2],\n",
    "  [4.7, 3.2, 1.3, 0.2],\n",
    "  [4.6, 3.1, 1.5, 0.2],\n",
    "  [5. , 3.6, 1.4, 0.2],\n",
    "  [5.4, 3.9, 1.7, 0.4],\n",
    "  [4.6, 3.4, 1.4, 0.3],\n",
    "  [5. , 3.4, 1.5, 0.2],\n",
    "  [4.4, 2.9, 1.4, 0.2],\n",
    "  [4.9, 3.1, 1.5, 0.1]])\n",
    "\n",
    "from sklearn.neighbors import NearestNeighbors\n",
    "neighbors = NearestNeighbors(n_neighbors=2)\n",
    "neighbors.fit(data)\n",
    "new_obs = np.array([[5. , 3.5, 1.6, 0.3]])\n",
    "neighbors.kneighbors(new_obs)"
   ]
  },
  {
   "cell_type": "code",
   "execution_count": null,
   "metadata": {},
   "outputs": [],
   "source": [
    "from sklearn.cluster import KMeans\n",
    "\n",
    "kmeans = KMeans(n_clusters = 3)\n",
    "kmeans.fit(data)"
   ]
  },
  {
   "cell_type": "code",
   "execution_count": null,
   "metadata": {},
   "outputs": [],
   "source": [
    "print(kmeans.cluster_centers_)"
   ]
  },
  {
   "cell_type": "code",
   "execution_count": null,
   "metadata": {},
   "outputs": [],
   "source": [
    "new_obs = np.array([\n",
    "  [5.1, 3.2, 1.7, 1.9],\n",
    "  [6.9, 3.2, 5.3, 2.2]])\n",
    "\n",
    "print('{}\\n'.format(repr(kmeans.predict(new_obs))))"
   ]
  },
  {
   "cell_type": "code",
   "execution_count": null,
   "metadata": {},
   "outputs": [],
   "source": [
    "from sklearn.cluster import MiniBatchKMeans\n",
    "kmeans = MiniBatchKMeans(n_clusters=3, batch_size=10)\n",
    "# predefined data\n",
    "kmeans.fit(data)"
   ]
  },
  {
   "cell_type": "code",
   "execution_count": null,
   "metadata": {},
   "outputs": [],
   "source": [
    "print(kmeans.labels_)"
   ]
  },
  {
   "cell_type": "code",
   "execution_count": null,
   "metadata": {},
   "outputs": [],
   "source": [
    "from sklearn.cluster import AgglomerativeClustering\n",
    "agg = AgglomerativeClustering(n_clusters=3)\n",
    "# predefined data\n",
    "agg.fit(data)\n",
    "print(agg.labels_)"
   ]
  },
  {
   "cell_type": "code",
   "execution_count": null,
   "metadata": {},
   "outputs": [],
   "source": [
    "from sklearn.cluster import MeanShift\n",
    "\n",
    "mean_shift = MeanShift()\n",
    "mean_shift.fit(data)\n",
    "\n",
    "print('{}\\n'.format(repr(mean_shift.labels_)))\n",
    "\n",
    "# centroids\n",
    "print('{}\\n'.format(repr(mean_shift.cluster_centers_)))"
   ]
  },
  {
   "cell_type": "code",
   "execution_count": null,
   "metadata": {},
   "outputs": [],
   "source": [
    "new_obs = np.array([\n",
    "  [5.1, 3.2, 1.7, 1.9],\n",
    "  [6.9, 3.2, 5.3, 2.2]])\n",
    "print('{}\\n'.format(repr(mean_shift.predict(new_obs))))"
   ]
  },
  {
   "cell_type": "code",
   "execution_count": null,
   "metadata": {},
   "outputs": [],
   "source": [
    "from sklearn.cluster import DBSCAN\n",
    "\n",
    "dbscan = DBSCAN(eps = 1.2, min_samples = 30)\n"
   ]
  },
  {
   "cell_type": "code",
   "execution_count": null,
   "metadata": {},
   "outputs": [],
   "source": [
    "from sklearn.metrics import adjusted_rand_score\n",
    "true_labels = np.array([0, 0, 0, 1, 1, 1])\n",
    "pred_labels = np.array([0, 0, 1, 1, 2, 2])\n",
    "\n",
    "ari = adjusted_rand_score(true_labels, pred_labels)\n",
    "print(ari)\n",
    "\n",
    "# symmetric\n",
    "ari = adjusted_rand_score(pred_labels, true_labels)\n",
    "print('{}\\n'.format(ari))\n",
    "\n",
    "# Perfect labeling\n",
    "perf_labels = np.array([0, 0, 0, 1, 1, 1])\n",
    "ari = adjusted_rand_score(true_labels, perf_labels)\n",
    "print('{}\\n'.format(ari))\n",
    "\n",
    "# Perfect labeling, permuted\n",
    "permuted_labels = np.array([1, 1, 1, 0, 0, 0])\n",
    "ari = adjusted_rand_score(true_labels, permuted_labels)\n",
    "print('{}\\n'.format(ari))\n",
    "\n",
    "renamed_labels = np.array([1, 1, 1, 3, 3, 3])\n",
    "# Renamed labels to 1, 3\n",
    "ari = adjusted_rand_score(true_labels, renamed_labels)\n",
    "print('{}\\n'.format(ari))\n",
    "\n",
    "true_labels2 = np.array([0, 1, 2, 0, 3, 4, 5, 1])\n",
    "# Bad labeling\n",
    "pred_labels2 = np.array([1, 1, 0, 0, 2, 2, 2, 2])\n",
    "ari = adjusted_rand_score(true_labels2, pred_labels2)\n",
    "print('{}\\n'.format(ari))"
   ]
  },
  {
   "cell_type": "code",
   "execution_count": null,
   "metadata": {},
   "outputs": [],
   "source": [
    "from sklearn.metrics import adjusted_mutual_info_score\n",
    "true_labels = np.array([0, 0, 0, 1, 1, 1])\n",
    "pred_labels = np.array([0, 0, 1, 1, 2, 2])\n",
    "\n",
    "ami = adjusted_mutual_info_score(true_labels, pred_labels)\n",
    "print('{}\\n'.format(ami))\n",
    "\n",
    "# symmetric\n",
    "ami = adjusted_mutual_info_score(pred_labels, true_labels)\n",
    "print('{}\\n'.format(ami))\n",
    "\n",
    "# Perfect labeling\n",
    "perf_labels = np.array([0, 0, 0, 1, 1, 1])\n",
    "ami = adjusted_mutual_info_score(true_labels, perf_labels)\n",
    "print('{}\\n'.format(ami))\n",
    "\n",
    "# Perfect labeling, permuted\n",
    "permuted_labels = np.array([1, 1, 1, 0, 0, 0])\n",
    "ami = adjusted_mutual_info_score(true_labels, permuted_labels)\n",
    "print('{}\\n'.format(ami))\n",
    "\n",
    "renamed_labels = np.array([1, 1, 1, 3, 3, 3])\n",
    "# Renamed labels to 1, 3\n",
    "ami = adjusted_mutual_info_score(true_labels, renamed_labels)\n",
    "print('{}\\n'.format(ami))\n",
    "\n",
    "true_labels2 = np.array([0, 1, 2, 0, 3, 4, 5, 1])\n",
    "# Bad labeling\n",
    "pred_labels2 = np.array([1, 1, 0, 0, 2, 2, 2, 2])\n",
    "ami = adjusted_mutual_info_score(true_labels2, pred_labels2)\n",
    "print('{}\\n'.format(ami))"
   ]
  }
 ],
 "metadata": {
  "kernelspec": {
   "display_name": ".venv",
   "language": "python",
   "name": "python3"
  },
  "language_info": {
   "codemirror_mode": {
    "name": "ipython",
    "version": 3
   },
   "file_extension": ".py",
   "mimetype": "text/x-python",
   "name": "python",
   "nbconvert_exporter": "python",
   "pygments_lexer": "ipython3",
   "version": "3.8.0"
  },
  "orig_nbformat": 4
 },
 "nbformat": 4,
 "nbformat_minor": 2
}
