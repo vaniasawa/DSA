{
 "cells": [
  {
   "cell_type": "code",
   "execution_count": null,
   "metadata": {},
   "outputs": [],
   "source": [
    "def is_palindrome(s: str) -> bool:\n",
    "    if len(s) <= 1:\n",
    "        return True\n",
    "    \n",
    "    i, j = 0, len(s) - 1\n",
    "    while i < j:\n",
    "        if s[i] == s[j]:\n",
    "            i += 1\n",
    "            j -= 1\n",
    "            continue\n",
    "        else:\n",
    "            return False\n",
    "    return True"
   ]
  },
  {
   "cell_type": "code",
   "execution_count": null,
   "metadata": {},
   "outputs": [],
   "source": [
    "is_palindrome('ba')"
   ]
  },
  {
   "cell_type": "code",
   "execution_count": null,
   "metadata": {},
   "outputs": [],
   "source": [
    "def reverse_words(sentence):\n",
    "    reversed_sentence = sentence[::-1]\n",
    "    reverse_sentence_fin = ''\n",
    "    i, j = 0, 0\n",
    "    while (i <= j) and (j < len(sentence)):\n",
    "        if reversed_sentence[j] != ' ':\n",
    "            j += 1\n",
    "        else:\n",
    "            reverse_sentence_fin += reversed_sentence[i:j][::-1] + ' '\n",
    "            rever\n",
    "    reverse_sentence_fin += reversed_sentence[i:j][::-1]\n",
    "    return reverse_sentence_fin"
   ]
  },
  {
   "cell_type": "code",
   "execution_count": null,
   "metadata": {},
   "outputs": [],
   "source": [
    "string = 'Hey There'\n",
    "string[0:3][::-1]"
   ]
  },
  {
   "cell_type": "code",
   "execution_count": null,
   "metadata": {},
   "outputs": [],
   "source": [
    "reverse_words('Hey There ')"
   ]
  },
  {
   "cell_type": "code",
   "execution_count": null,
   "metadata": {},
   "outputs": [],
   "source": [
    "def next_index(current_index, jumps, array_length, sign):\n",
    "    next_index = 0\n",
    "    if sign == 'positive':\n",
    "        next_index = (current_index + jumps)%array_length\n",
    "    else:\n",
    "        modulo_jumps = -1 * ((-1 * jumps)%array_length)\n",
    "        next_index = current_index + modulo_jumps\n",
    "        next_index = next_index if next_index >= 0 else array_length + next_index\n",
    "    return next_index"
   ]
  },
  {
   "cell_type": "code",
   "execution_count": null,
   "metadata": {},
   "outputs": [],
   "source": [
    "next_index(1, -9001, 5, 'negative')"
   ]
  },
  {
   "cell_type": "code",
   "execution_count": null,
   "metadata": {},
   "outputs": [],
   "source": [
    "# a_set = set()\n",
    "\n",
    "a_set.remove(5)"
   ]
  },
  {
   "cell_type": "code",
   "execution_count": null,
   "metadata": {},
   "outputs": [],
   "source": [
    "a_set"
   ]
  },
  {
   "cell_type": "code",
   "execution_count": null,
   "metadata": {},
   "outputs": [],
   "source": [
    "def find_repeated_sequences(s, k):\n",
    "    n = len(s)\n",
    "    mapping = {\n",
    "        'A': 1,\n",
    "        'C': 2,\n",
    "        'G': 3,\n",
    "        'T': 4\n",
    "    }\n",
    "    s_int = [0] * n\n",
    "    for i in range(n):\n",
    "        s_int[i] = mapping[s[i]]\n",
    "    print(s_int)\n",
    "    \n",
    "    hash_set = set()\n",
    "    output = set()\n",
    "    hash_val = 0\n",
    "    for i in range(0, n-k+1):\n",
    "        if i == 0:\n",
    "            for c in range(k):\n",
    "                hash_val += s_int[i+c] * (n**(k-c-1))\n",
    "        else:\n",
    "            hash_val = n * (hash_val - s_int[i-1] * (n**(k-1))) + s_int[i+k-1]\n",
    "\n",
    "        if hash_val not in hash_set:\n",
    "            hash_set.add(hash_val)\n",
    "        else:\n",
    "            output.add(s[i:i+k])\n",
    "    return output"
   ]
  },
  {
   "cell_type": "code",
   "execution_count": null,
   "metadata": {},
   "outputs": [],
   "source": [
    "find_repeated_sequences(\n",
    "    \"ATATATATATATATAT\" , 6\n",
    ")"
   ]
  },
  {
   "cell_type": "code",
   "execution_count": null,
   "metadata": {},
   "outputs": [],
   "source": [
    "temp = 'abcT'\n",
    "temp[4:]"
   ]
  },
  {
   "cell_type": "code",
   "execution_count": null,
   "metadata": {},
   "outputs": [],
   "source": []
  }
 ],
 "metadata": {
  "kernelspec": {
   "display_name": ".venv",
   "language": "python",
   "name": "python3"
  },
  "language_info": {
   "codemirror_mode": {
    "name": "ipython",
    "version": 3
   },
   "file_extension": ".py",
   "mimetype": "text/x-python",
   "name": "python",
   "nbconvert_exporter": "python",
   "pygments_lexer": "ipython3",
   "version": "3.8.10"
  },
  "orig_nbformat": 4
 },
 "nbformat": 4,
 "nbformat_minor": 2
}
