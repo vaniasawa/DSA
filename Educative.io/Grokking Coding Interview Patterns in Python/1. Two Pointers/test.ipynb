{
 "cells": [
  {
   "cell_type": "code",
   "execution_count": 1,
   "metadata": {},
   "outputs": [],
   "source": [
    "def is_palindrome(s: str) -> bool:\n",
    "    if len(s) <= 1:\n",
    "        return True\n",
    "    \n",
    "    i, j = 0, len(s) - 1\n",
    "    while i < j:\n",
    "        if s[i] == s[j]:\n",
    "            i += 1\n",
    "            j -= 1\n",
    "            continue\n",
    "        else:\n",
    "            return False\n",
    "    return True"
   ]
  },
  {
   "cell_type": "code",
   "execution_count": 7,
   "metadata": {},
   "outputs": [
    {
     "data": {
      "text/plain": [
       "False"
      ]
     },
     "execution_count": 7,
     "metadata": {},
     "output_type": "execute_result"
    }
   ],
   "source": [
    "is_palindrome('ba')"
   ]
  },
  {
   "cell_type": "code",
   "execution_count": 23,
   "metadata": {},
   "outputs": [],
   "source": [
    "def reverse_words(sentence):\n",
    "    reversed_sentence = sentence[::-1]\n",
    "    reverse_sentence_fin = ''\n",
    "    i, j = 0, 0\n",
    "    while (i <= j) and (j < len(sentence)):\n",
    "        if reversed_sentence[j] != ' ':\n",
    "            j += 1\n",
    "        else:\n",
    "            reverse_sentence_fin += reversed_sentence[i:j][::-1] + ' '\n",
    "            rever\n",
    "    reverse_sentence_fin += reversed_sentence[i:j][::-1]\n",
    "    return reverse_sentence_fin"
   ]
  },
  {
   "cell_type": "code",
   "execution_count": 21,
   "metadata": {},
   "outputs": [
    {
     "data": {
      "text/plain": [
       "'yeH'"
      ]
     },
     "execution_count": 21,
     "metadata": {},
     "output_type": "execute_result"
    }
   ],
   "source": [
    "string = 'Hey There'\n",
    "string[0:3][::-1]"
   ]
  },
  {
   "cell_type": "code",
   "execution_count": 25,
   "metadata": {},
   "outputs": [
    {
     "data": {
      "text/plain": [
       "' There Hey'"
      ]
     },
     "execution_count": 25,
     "metadata": {},
     "output_type": "execute_result"
    }
   ],
   "source": [
    "reverse_words('Hey There ')"
   ]
  },
  {
   "cell_type": "code",
   "execution_count": 9,
   "metadata": {},
   "outputs": [],
   "source": [
    "def next_index(current_index, jumps, array_length, sign):\n",
    "    next_index = 0\n",
    "    if sign == 'positive':\n",
    "        next_index = (current_index + jumps)%array_length\n",
    "    else:\n",
    "        modulo_jumps = -1 * ((-1 * jumps)%array_length)\n",
    "        next_index = current_index + modulo_jumps\n",
    "        next_index = next_index if next_index >= 0 else array_length + next_index\n",
    "    return next_index"
   ]
  },
  {
   "cell_type": "code",
   "execution_count": 11,
   "metadata": {},
   "outputs": [
    {
     "data": {
      "text/plain": [
       "0"
      ]
     },
     "execution_count": 11,
     "metadata": {},
     "output_type": "execute_result"
    }
   ],
   "source": [
    "next_index(1, -9001, 5, 'negative')"
   ]
  },
  {
   "cell_type": "code",
   "execution_count": null,
   "metadata": {},
   "outputs": [],
   "source": []
  }
 ],
 "metadata": {
  "kernelspec": {
   "display_name": ".venv",
   "language": "python",
   "name": "python3"
  },
  "language_info": {
   "codemirror_mode": {
    "name": "ipython",
    "version": 3
   },
   "file_extension": ".py",
   "mimetype": "text/x-python",
   "name": "python",
   "nbconvert_exporter": "python",
   "pygments_lexer": "ipython3",
   "version": "3.8.10"
  },
  "orig_nbformat": 4
 },
 "nbformat": 4,
 "nbformat_minor": 2
}
