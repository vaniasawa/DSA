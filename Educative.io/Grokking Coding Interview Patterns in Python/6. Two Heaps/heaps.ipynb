{
 "cells": [
  {
   "cell_type": "code",
   "execution_count": 1,
   "metadata": {},
   "outputs": [],
   "source": [
    "import heapq"
   ]
  },
  {
   "cell_type": "code",
   "execution_count": 11,
   "metadata": {},
   "outputs": [],
   "source": [
    "class min_heap:\n",
    "    def __init__(self):\n",
    "        self.min_heap_list = []\n",
    "    \n",
    "    def insert(self, x):\n",
    "        heapq.heappush(self.min_heap_list, x)\n",
    "    \n",
    "    def get_min(self):\n",
    "        return self.min_heap_list[0]\n",
    "    \n",
    "    def __str__(self):\n",
    "        out = \"[\"\n",
    "        for i in self.min_heap_list:\n",
    "            out+=str(i) + \", \"\n",
    "        out = out[:-2] + \"]\"\n",
    "        return out"
   ]
  },
  {
   "cell_type": "code",
   "execution_count": 8,
   "metadata": {},
   "outputs": [
    {
     "name": "stdout",
     "output_type": "stream",
     "text": [
      "[7, 9]\n"
     ]
    }
   ],
   "source": [
    "class max_heap:\n",
    "    def __init__(self):\n",
    "        self.max_heap_list = []\n",
    "    \n",
    "    def insert(self, x):\n",
    "        heapq.heappush(self.max_heap_list, -1 * x)\n",
    "\n",
    "    def get_max(self):\n",
    "        return self.max_heap_list[0] * -1\n",
    "    \n",
    "    def __str__(self):\n",
    "        out = \"[\"\n",
    "        for i in self.max_heap_list:\n",
    "            out+=str(i) + \", \"\n",
    "        out = out[:-2] + \"]\"\n",
    "        return out"
   ]
  },
  {
   "cell_type": "code",
   "execution_count": 1,
   "metadata": {},
   "outputs": [],
   "source": [
    "from heapq import *\n",
    "\n",
    "class MedianOfStream:\n",
    "    min_heap_of_large_nums = []\n",
    "    max_heap_of_small_nums = []\n",
    "\n",
    "    def insert_num(self, num):\n",
    "        if self.max_heap_of_small_nums == []:\n",
    "            heappush(self.max_heap_of_small_nums, -num)\n",
    "        elif num <= -self.max_heap_of_small_nums[0]:\n",
    "            heappush(self.max_heap_of_small_nums, -num)\n",
    "        else:\n",
    "            heappush(self.min_heap_of_large_nums, num)\n",
    "\n",
    "        if len(self.max_heap_of_small_nums) < len(self.min_heap_of_large_nums):\n",
    "            heappush(self.max_heap_of_small_nums, -1 * heappop(self.min_heap_of_large_nums))\n",
    "        elif len(self.max_heap_of_small_nums) > len(self.min_heap_of_large_nums) + 1:\n",
    "            heappush(self.min_heap_of_large_nums, -1 * heappop(self.max_heap_of_small_nums))\n",
    "\n",
    "    # This function should return the median of the stored numbers\n",
    "    def find_median(self):\n",
    "        if len(self.max_heap_of_small_nums) == len(self.min_heap_of_large_nums):\n",
    "            return -self.max_heap_of_small_nums[0] / 2.0 + self.min_heap_of_large_nums[0] / 2.0\n",
    "        return -self.max_heap_of_small_nums[0]/1.0"
   ]
  },
  {
   "cell_type": "code",
   "execution_count": 2,
   "metadata": {},
   "outputs": [],
   "source": [
    "def main():\n",
    "    median_num = MedianOfStream()\n",
    "    nums = [35, 22, 30, 25, 1]\n",
    "    numlist = []\n",
    "    x = 1\n",
    "    for i in nums:\n",
    "        numlist.append(i)\n",
    "        print(x, \".\\tData stream: \", numlist, sep=\"\")\n",
    "        median_num.insert_num(i)\n",
    "        print(\"\\tThe median for the given numbers is: \" +\n",
    "              str(median_num.find_median()), sep=\"\")\n",
    "        print(100*\"-\"+\"\\n\")\n",
    "        x += 1"
   ]
  },
  {
   "cell_type": "code",
   "execution_count": 3,
   "metadata": {},
   "outputs": [
    {
     "name": "stdout",
     "output_type": "stream",
     "text": [
      "1.\tData stream: [35]\n",
      "\tThe median for the given numbers is: 35\n",
      "----------------------------------------------------------------------------------------------------\n",
      "\n",
      "2.\tData stream: [35, 22]\n",
      "\tThe median for the given numbers is: 28.5\n",
      "----------------------------------------------------------------------------------------------------\n",
      "\n",
      "3.\tData stream: [35, 22, 30]\n",
      "\tThe median for the given numbers is: 30\n",
      "----------------------------------------------------------------------------------------------------\n",
      "\n",
      "4.\tData stream: [35, 22, 30, 25]\n",
      "\tThe median for the given numbers is: 27.5\n",
      "----------------------------------------------------------------------------------------------------\n",
      "\n",
      "5.\tData stream: [35, 22, 30, 25, 1]\n",
      "\tThe median for the given numbers is: 25\n",
      "----------------------------------------------------------------------------------------------------\n",
      "\n"
     ]
    }
   ],
   "source": [
    "main()"
   ]
  },
  {
   "cell_type": "code",
   "execution_count": null,
   "metadata": {},
   "outputs": [],
   "source": []
  }
 ],
 "metadata": {
  "kernelspec": {
   "display_name": ".venv",
   "language": "python",
   "name": "python3"
  },
  "language_info": {
   "codemirror_mode": {
    "name": "ipython",
    "version": 3
   },
   "file_extension": ".py",
   "mimetype": "text/x-python",
   "name": "python",
   "nbconvert_exporter": "python",
   "pygments_lexer": "ipython3",
   "version": "3.8.10"
  },
  "orig_nbformat": 4
 },
 "nbformat": 4,
 "nbformat_minor": 2
}
