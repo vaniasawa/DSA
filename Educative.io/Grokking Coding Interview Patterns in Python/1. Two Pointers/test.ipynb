{
 "cells": [
  {
   "cell_type": "code",
   "execution_count": null,
   "metadata": {},
   "outputs": [],
   "source": [
    "def is_palindrome(s: str) -> bool:\n",
    "    if len(s) <= 1:\n",
    "        return True\n",
    "    \n",
    "    i, j = 0, len(s) - 1\n",
    "    while i < j:\n",
    "        if s[i] == s[j]:\n",
    "            i += 1\n",
    "            j -= 1\n",
    "            continue\n",
    "        else:\n",
    "            return False\n",
    "    return True"
   ]
  },
  {
   "cell_type": "code",
   "execution_count": null,
   "metadata": {},
   "outputs": [],
   "source": [
    "is_palindrome('ba')"
   ]
  },
  {
   "cell_type": "code",
   "execution_count": null,
   "metadata": {},
   "outputs": [],
   "source": [
    "def reverse_words(sentence):\n",
    "    reversed_sentence = sentence[::-1]\n",
    "    reverse_sentence_fin = ''\n",
    "    i, j = 0, 0\n",
    "    while (i <= j) and (j < len(sentence)):\n",
    "        if reversed_sentence[j] != ' ':\n",
    "            j += 1\n",
    "        else:\n",
    "            reverse_sentence_fin += reversed_sentence[i:j][::-1] + ' '\n",
    "            rever\n",
    "    reverse_sentence_fin += reversed_sentence[i:j][::-1]\n",
    "    return reverse_sentence_fin"
   ]
  },
  {
   "cell_type": "code",
   "execution_count": null,
   "metadata": {},
   "outputs": [],
   "source": [
    "string = 'Hey There'\n",
    "string[0:3][::-1]"
   ]
  },
  {
   "cell_type": "code",
   "execution_count": null,
   "metadata": {},
   "outputs": [],
   "source": [
    "reverse_words('Hey There ')"
   ]
  },
  {
   "cell_type": "code",
   "execution_count": null,
   "metadata": {},
   "outputs": [],
   "source": [
    "def next_index(current_index, jumps, array_length, sign):\n",
    "    next_index = 0\n",
    "    if sign == 'positive':\n",
    "        next_index = (current_index + jumps)%array_length\n",
    "    else:\n",
    "        modulo_jumps = -1 * ((-1 * jumps)%array_length)\n",
    "        next_index = current_index + modulo_jumps\n",
    "        next_index = next_index if next_index >= 0 else array_length + next_index\n",
    "    return next_index"
   ]
  },
  {
   "cell_type": "code",
   "execution_count": null,
   "metadata": {},
   "outputs": [],
   "source": [
    "next_index(1, -9001, 5, 'negative')"
   ]
  },
  {
   "cell_type": "code",
   "execution_count": null,
   "metadata": {},
   "outputs": [],
   "source": [
    "# a_set = set()\n",
    "\n",
    "a_set.remove(5)"
   ]
  },
  {
   "cell_type": "code",
   "execution_count": null,
   "metadata": {},
   "outputs": [],
   "source": [
    "a_set"
   ]
  },
  {
   "cell_type": "code",
   "execution_count": null,
   "metadata": {},
   "outputs": [],
   "source": [
    "def find_repeated_sequences(s, k):\n",
    "    n = len(s)\n",
    "    mapping = {\n",
    "        'A': 1,\n",
    "        'C': 2,\n",
    "        'G': 3,\n",
    "        'T': 4\n",
    "    }\n",
    "    s_int = [0] * n\n",
    "    for i in range(n):\n",
    "        s_int[i] = mapping[s[i]]\n",
    "    print(s_int)\n",
    "    \n",
    "    hash_set = set()\n",
    "    output = set()\n",
    "    hash_val = 0\n",
    "    for i in range(0, n-k+1):\n",
    "        if i == 0:\n",
    "            for c in range(k):\n",
    "                hash_val += s_int[i+c] * (n**(k-c-1))\n",
    "        else:\n",
    "            hash_val = n * (hash_val - s_int[i-1] * (n**(k-1))) + s_int[i+k-1]\n",
    "\n",
    "        if hash_val not in hash_set:\n",
    "            hash_set.add(hash_val)\n",
    "        else:\n",
    "            output.add(s[i:i+k])\n",
    "    return output"
   ]
  },
  {
   "cell_type": "code",
   "execution_count": null,
   "metadata": {},
   "outputs": [],
   "source": [
    "find_repeated_sequences(\n",
    "    \"ATATATATATATATAT\" , 6\n",
    ")"
   ]
  },
  {
   "cell_type": "code",
   "execution_count": null,
   "metadata": {},
   "outputs": [],
   "source": [
    "temp = 'abcT'\n",
    "temp[4:]"
   ]
  },
  {
   "cell_type": "code",
   "execution_count": 1,
   "metadata": {},
   "outputs": [],
   "source": [
    "temp = [1, 2, 3, 4]\n",
    "\n",
    "while len(temp) > 0:\n",
    "    temp.pop(-1)"
   ]
  },
  {
   "cell_type": "code",
   "execution_count": 8,
   "metadata": {},
   "outputs": [],
   "source": [
    "def find_max_sliding_window(nums, w):\n",
    "    current_window = [0]\n",
    "    output = []\n",
    "    if w == 1:\n",
    "        return nums\n",
    "    for pointer in range(1, len(nums)):\n",
    "        ## Clean Up\n",
    "        while (len(current_window) > 0) and (nums[pointer] > nums[current_window[-1]]):\n",
    "            current_window.pop(-1)\n",
    "        current_window.append(pointer)\n",
    "\n",
    "        if current_window[0] <= pointer - w:\n",
    "            current_window.pop(0)\n",
    "\n",
    "        if pointer + 1 - w >= 0:\n",
    "            output.append(nums[current_window[0]])\n",
    "\n",
    "    return output"
   ]
  },
  {
   "cell_type": "code",
   "execution_count": 10,
   "metadata": {},
   "outputs": [],
   "source": [
    "from collections import deque"
   ]
  },
  {
   "cell_type": "code",
   "execution_count": 11,
   "metadata": {},
   "outputs": [
    {
     "name": "stdout",
     "output_type": "stream",
     "text": [
      "Help on class deque in module collections:\n",
      "\n",
      "class deque(builtins.object)\n",
      " |  deque([iterable[, maxlen]]) --> deque object\n",
      " |  \n",
      " |  A list-like sequence optimized for data accesses near its endpoints.\n",
      " |  \n",
      " |  Methods defined here:\n",
      " |  \n",
      " |  __add__(self, value, /)\n",
      " |      Return self+value.\n",
      " |  \n",
      " |  __bool__(self, /)\n",
      " |      self != 0\n",
      " |  \n",
      " |  __contains__(self, key, /)\n",
      " |      Return key in self.\n",
      " |  \n",
      " |  __copy__(...)\n",
      " |      Return a shallow copy of a deque.\n",
      " |  \n",
      " |  __delitem__(self, key, /)\n",
      " |      Delete self[key].\n",
      " |  \n",
      " |  __eq__(self, value, /)\n",
      " |      Return self==value.\n",
      " |  \n",
      " |  __ge__(self, value, /)\n",
      " |      Return self>=value.\n",
      " |  \n",
      " |  __getattribute__(self, name, /)\n",
      " |      Return getattr(self, name).\n",
      " |  \n",
      " |  __getitem__(self, key, /)\n",
      " |      Return self[key].\n",
      " |  \n",
      " |  __gt__(self, value, /)\n",
      " |      Return self>value.\n",
      " |  \n",
      " |  __iadd__(self, value, /)\n",
      " |      Implement self+=value.\n",
      " |  \n",
      " |  __imul__(self, value, /)\n",
      " |      Implement self*=value.\n",
      " |  \n",
      " |  __init__(self, /, *args, **kwargs)\n",
      " |      Initialize self.  See help(type(self)) for accurate signature.\n",
      " |  \n",
      " |  __iter__(self, /)\n",
      " |      Implement iter(self).\n",
      " |  \n",
      " |  __le__(self, value, /)\n",
      " |      Return self<=value.\n",
      " |  \n",
      " |  __len__(self, /)\n",
      " |      Return len(self).\n",
      " |  \n",
      " |  __lt__(self, value, /)\n",
      " |      Return self<value.\n",
      " |  \n",
      " |  __mul__(self, value, /)\n",
      " |      Return self*value.\n",
      " |  \n",
      " |  __ne__(self, value, /)\n",
      " |      Return self!=value.\n",
      " |  \n",
      " |  __reduce__(...)\n",
      " |      Return state information for pickling.\n",
      " |  \n",
      " |  __repr__(self, /)\n",
      " |      Return repr(self).\n",
      " |  \n",
      " |  __reversed__(...)\n",
      " |      D.__reversed__() -- return a reverse iterator over the deque\n",
      " |  \n",
      " |  __rmul__(self, value, /)\n",
      " |      Return value*self.\n",
      " |  \n",
      " |  __setitem__(self, key, value, /)\n",
      " |      Set self[key] to value.\n",
      " |  \n",
      " |  __sizeof__(...)\n",
      " |      D.__sizeof__() -- size of D in memory, in bytes\n",
      " |  \n",
      " |  append(...)\n",
      " |      Add an element to the right side of the deque.\n",
      " |  \n",
      " |  appendleft(...)\n",
      " |      Add an element to the left side of the deque.\n",
      " |  \n",
      " |  clear(...)\n",
      " |      Remove all elements from the deque.\n",
      " |  \n",
      " |  copy(...)\n",
      " |      Return a shallow copy of a deque.\n",
      " |  \n",
      " |  count(...)\n",
      " |      D.count(value) -> integer -- return number of occurrences of value\n",
      " |  \n",
      " |  extend(...)\n",
      " |      Extend the right side of the deque with elements from the iterable\n",
      " |  \n",
      " |  extendleft(...)\n",
      " |      Extend the left side of the deque with elements from the iterable\n",
      " |  \n",
      " |  index(...)\n",
      " |      D.index(value, [start, [stop]]) -> integer -- return first index of value.\n",
      " |      Raises ValueError if the value is not present.\n",
      " |  \n",
      " |  insert(...)\n",
      " |      D.insert(index, object) -- insert object before index\n",
      " |  \n",
      " |  pop(...)\n",
      " |      Remove and return the rightmost element.\n",
      " |  \n",
      " |  popleft(...)\n",
      " |      Remove and return the leftmost element.\n",
      " |  \n",
      " |  remove(...)\n",
      " |      D.remove(value) -- remove first occurrence of value.\n",
      " |  \n",
      " |  reverse(...)\n",
      " |      D.reverse() -- reverse *IN PLACE*\n",
      " |  \n",
      " |  rotate(...)\n",
      " |      Rotate the deque n steps to the right (default n=1).  If n is negative, rotates left.\n",
      " |  \n",
      " |  ----------------------------------------------------------------------\n",
      " |  Static methods defined here:\n",
      " |  \n",
      " |  __new__(*args, **kwargs) from builtins.type\n",
      " |      Create and return a new object.  See help(type) for accurate signature.\n",
      " |  \n",
      " |  ----------------------------------------------------------------------\n",
      " |  Data descriptors defined here:\n",
      " |  \n",
      " |  maxlen\n",
      " |      maximum size of a deque or None if unbounded\n",
      " |  \n",
      " |  ----------------------------------------------------------------------\n",
      " |  Data and other attributes defined here:\n",
      " |  \n",
      " |  __hash__ = None\n",
      "\n"
     ]
    }
   ],
   "source": [
    "help(deque)"
   ]
  },
  {
   "cell_type": "code",
   "execution_count": 12,
   "metadata": {},
   "outputs": [
    {
     "data": {
      "text/plain": [
       "deque([0])"
      ]
     },
     "execution_count": 12,
     "metadata": {},
     "output_type": "execute_result"
    }
   ],
   "source": [
    "deque([0])"
   ]
  },
  {
   "cell_type": "code",
   "execution_count": 21,
   "metadata": {},
   "outputs": [],
   "source": [
    "def min_window(str1, str2):\n",
    "    index_str1 = index_str2 = 0\n",
    "    min_subsequence_length = len(str1) + 1\n",
    "    min_subsequence = \"\"\n",
    "    start = end = 0\n",
    "    while index_str1 < len(str1):\n",
    "        for index_str2 in range(len(str2)):\n",
    "            if str1[index_str1] == str2[index_str2]:\n",
    "                index_str1 += 1\n",
    "                continue\n",
    "            while str1[index_str1] != str2[index_str2]:\n",
    "                index_str1 += 1\n",
    "\n",
    "        start = end = index_str1\n",
    "        for index_str2 in range(len(str2)-1, -1, -1):\n",
    "            print(index_str2)\n",
    "            while str1[start] != str2[index_str2]:\n",
    "                start -= 1\n",
    "        \n",
    "        if end-start+1 < min_subsequence_length:\n",
    "            min_subsequence_length = end-start+1\n",
    "            min_subsequence = str1[start:end+1]\n",
    "        index_str1 = start + 1\n",
    "    return min_subsequence"
   ]
  },
  {
   "cell_type": "code",
   "execution_count": 22,
   "metadata": {},
   "outputs": [
    {
     "name": "stdout",
     "output_type": "stream",
     "text": [
      "0\n",
      "0\n",
      "0\n",
      "1\n",
      "3\n",
      "2\n",
      "4\n",
      "3\n",
      "3\n",
      "2\n",
      "1\n",
      "0\n",
      "1\n",
      "0\n",
      "7\n",
      "1\n",
      "9\n",
      "2\n",
      "11\n",
      "3\n",
      "3\n",
      "2\n",
      "1\n",
      "0\n",
      "8\n",
      "0\n"
     ]
    },
    {
     "ename": "IndexError",
     "evalue": "string index out of range",
     "output_type": "error",
     "traceback": [
      "\u001b[1;31m---------------------------------------------------------------------------\u001b[0m",
      "\u001b[1;31mIndexError\u001b[0m                                Traceback (most recent call last)",
      "Cell \u001b[1;32mIn[22], line 1\u001b[0m\n\u001b[1;32m----> 1\u001b[0m min_window(\n\u001b[0;32m      2\u001b[0m     \u001b[39m\"\u001b[39;49m\u001b[39mabcdedeaqdweq\u001b[39;49m\u001b[39m\"\u001b[39;49m,\n\u001b[0;32m      3\u001b[0m     \u001b[39m\"\u001b[39;49m\u001b[39madeq\u001b[39;49m\u001b[39m\"\u001b[39;49m\n\u001b[0;32m      4\u001b[0m )\n",
      "Cell \u001b[1;32mIn[21], line 10\u001b[0m, in \u001b[0;36mmin_window\u001b[1;34m(str1, str2)\u001b[0m\n\u001b[0;32m      8\u001b[0m     \u001b[39mprint\u001b[39m(index_str1)\n\u001b[0;32m      9\u001b[0m     \u001b[39mprint\u001b[39m(index_str2)\n\u001b[1;32m---> 10\u001b[0m     \u001b[39mwhile\u001b[39;00m str1[index_str1] \u001b[39m!=\u001b[39m str2[index_str2]:\n\u001b[0;32m     11\u001b[0m         index_str1 \u001b[39m+\u001b[39m\u001b[39m=\u001b[39m \u001b[39m1\u001b[39m\n\u001b[0;32m     12\u001b[0m start \u001b[39m=\u001b[39m end \u001b[39m=\u001b[39m index_str1\n",
      "\u001b[1;31mIndexError\u001b[0m: string index out of range"
     ]
    }
   ],
   "source": [
    "min_window(\n",
    "    \"abcdedeaqdweq\",\n",
    "    \"adeq\"\n",
    ")"
   ]
  },
  {
   "cell_type": "code",
   "execution_count": null,
   "metadata": {},
   "outputs": [],
   "source": []
  }
 ],
 "metadata": {
  "kernelspec": {
   "display_name": ".venv",
   "language": "python",
   "name": "python3"
  },
  "language_info": {
   "codemirror_mode": {
    "name": "ipython",
    "version": 3
   },
   "file_extension": ".py",
   "mimetype": "text/x-python",
   "name": "python",
   "nbconvert_exporter": "python",
   "pygments_lexer": "ipython3",
   "version": "3.8.10"
  },
  "orig_nbformat": 4
 },
 "nbformat": 4,
 "nbformat_minor": 2
}
