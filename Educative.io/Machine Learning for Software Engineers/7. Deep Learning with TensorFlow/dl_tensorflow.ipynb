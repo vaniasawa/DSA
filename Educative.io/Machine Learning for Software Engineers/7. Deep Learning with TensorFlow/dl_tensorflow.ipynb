{
 "cells": [
  {
   "attachments": {},
   "cell_type": "markdown",
   "metadata": {},
   "source": [
    "## Defining Input Tensors\n",
    "\n",
    "```\n",
    "def init_inputs(input_size):\n",
    "  inputs = tf.compat.v1.placeholder(\n",
    "    tf.float32,\n",
    "    shape = (None, input_size),\n",
    "    name = 'inputs'\n",
    "  )\n",
    "  return inputs\n",
    "\n",
    "def init_labels(output_size):\n",
    "  labels = tf.compat.v1.placeholder(\n",
    "    tf.int32,\n",
    "    shape = (None, output_size),\n",
    "    name='labels'\n",
    "  )\n",
    "  return labels\n",
    "\n",
    "```"
   ]
  },
  {
   "attachments": {},
   "cell_type": "markdown",
   "metadata": {},
   "source": [
    "## Logits\n",
    "\n",
    "```\n",
    "def model_layers(inputs, output_size):\n",
    "  logits = tf.keras.layers.Dense(\n",
    "    output_size,\n",
    "    name = 'logits'\n",
    "  )(inputs)\n",
    "  return logits\n",
    "```"
   ]
  },
  {
   "attachments": {},
   "cell_type": "markdown",
   "metadata": {},
   "source": [
    "## Metrics\n",
    "\n",
    "```\n",
    "## Get probability of logits\n",
    "probs = tf.math.sigmoid(logits)\n",
    "\n",
    "## Convert to 0-1\n",
    "rounded_probs = tf.math.round(probs)\n",
    "\n",
    "## Get Accuracy\n",
    "predictions = tf.cast(rounded_probs, tf.int32)\n",
    "is_correct = tf.math.equal(predictions, labels)\n",
    "is_correct_float = tf.cast(is_correct, tf.float32)\n",
    "accuracy = tf.math.reduce_mean(is_correct_float)\n",
    "```"
   ]
  },
  {
   "attachments": {},
   "cell_type": "markdown",
   "metadata": {},
   "source": [
    "## Optimization\n",
    "\n",
    "```\n",
    "labels_float = tf.cast(labels, tf.float32)\n",
    "cross_entropy = tf.nn.sigmoid_cross_entropy_with_logits(\n",
    "    labels = labels_float,\n",
    "    logits = logits\n",
    ")\n",
    "loss = tf.math.reduce_mean(cross_entropy)\n",
    "adam = tf.compat.v1.train.AdamOptimizer()\n",
    "train_op = adam.minimize(loss)\n",
    "```"
   ]
  },
  {
   "attachments": {},
   "cell_type": "markdown",
   "metadata": {},
   "source": [
    "## Training\n",
    "\n",
    "run - Returns the value of that tensor after executing our computation graph.\n",
    "Output of run - Numpy array"
   ]
  },
  {
   "cell_type": "code",
   "execution_count": null,
   "metadata": {},
   "outputs": [],
   "source": [
    "import tensorflow as tf\n",
    "\n",
    "with tf.compat.v1.Session() as sess:\n",
    "    t = tf.constant([1, 2, 3])\n",
    "    arr= sess.run(t)\n",
    "    print(arr)\n",
    "\n",
    "    t2 = tf.constant(4)\n",
    "    tup = sess.run((t, t2))\n"
   ]
  },
  {
   "cell_type": "code",
   "execution_count": 6,
   "metadata": {},
   "outputs": [
    {
     "ename": "TypeError",
     "evalue": "Cannot interpret feed_dict key as Tensor: The name 'inputs' refers to an Operation, not a Tensor. Tensor names must be of the form \"<op_name>:<output_index>\".",
     "output_type": "error",
     "traceback": [
      "\u001b[1;31m---------------------------------------------------------------------------\u001b[0m",
      "\u001b[1;31mValueError\u001b[0m                                Traceback (most recent call last)",
      "File \u001b[1;32mc:\\Users\\vaasawa\\Documents\\GitHub\\DSA\\.venv\\lib\\site-packages\\tensorflow\\python\\client\\session.py:1132\u001b[0m, in \u001b[0;36mBaseSession._run\u001b[1;34m(self, handle, fetches, feed_dict, options, run_metadata)\u001b[0m\n\u001b[0;32m   1131\u001b[0m \u001b[39mtry\u001b[39;00m:\n\u001b[1;32m-> 1132\u001b[0m   subfeed_t \u001b[39m=\u001b[39m \u001b[39mself\u001b[39;49m\u001b[39m.\u001b[39;49mgraph\u001b[39m.\u001b[39;49mas_graph_element(\n\u001b[0;32m   1133\u001b[0m       subfeed, allow_tensor\u001b[39m=\u001b[39;49m\u001b[39mTrue\u001b[39;49;00m, allow_operation\u001b[39m=\u001b[39;49m\u001b[39mFalse\u001b[39;49;00m)\n\u001b[0;32m   1134\u001b[0m \u001b[39mexcept\u001b[39;00m \u001b[39mException\u001b[39;00m \u001b[39mas\u001b[39;00m e:\n",
      "File \u001b[1;32mc:\\Users\\vaasawa\\Documents\\GitHub\\DSA\\.venv\\lib\\site-packages\\tensorflow\\python\\framework\\ops.py:4012\u001b[0m, in \u001b[0;36mGraph.as_graph_element\u001b[1;34m(self, obj, allow_tensor, allow_operation)\u001b[0m\n\u001b[0;32m   4011\u001b[0m \u001b[39mwith\u001b[39;00m \u001b[39mself\u001b[39m\u001b[39m.\u001b[39m_lock:\n\u001b[1;32m-> 4012\u001b[0m   \u001b[39mreturn\u001b[39;00m \u001b[39mself\u001b[39;49m\u001b[39m.\u001b[39;49m_as_graph_element_locked(obj, allow_tensor, allow_operation)\n",
      "File \u001b[1;32mc:\\Users\\vaasawa\\Documents\\GitHub\\DSA\\.venv\\lib\\site-packages\\tensorflow\\python\\framework\\ops.py:4086\u001b[0m, in \u001b[0;36mGraph._as_graph_element_locked\u001b[1;34m(self, obj, allow_tensor, allow_operation)\u001b[0m\n\u001b[0;32m   4084\u001b[0m     err_msg \u001b[39m+\u001b[39m\u001b[39m=\u001b[39m (\u001b[39m\"\u001b[39m\u001b[39m Tensor names must be of the form \u001b[39m\u001b[39m\"\u001b[39m\n\u001b[0;32m   4085\u001b[0m                 \u001b[39m\"\u001b[39m\u001b[39m\\\"\u001b[39;00m\u001b[39m<op_name>:<output_index>\u001b[39m\u001b[39m\\\"\u001b[39;00m\u001b[39m.\u001b[39m\u001b[39m\"\u001b[39m)\n\u001b[1;32m-> 4086\u001b[0m     \u001b[39mraise\u001b[39;00m \u001b[39mValueError\u001b[39;00m(err_msg)\n\u001b[0;32m   4088\u001b[0m \u001b[39melif\u001b[39;00m \u001b[39misinstance\u001b[39m(obj, Tensor) \u001b[39mand\u001b[39;00m allow_tensor:\n\u001b[0;32m   4089\u001b[0m   \u001b[39m# Actually obj is just the object it's referring to.\u001b[39;00m\n",
      "\u001b[1;31mValueError\u001b[0m: The name 'inputs' refers to an Operation, not a Tensor. Tensor names must be of the form \"<op_name>:<output_index>\".",
      "\nDuring handling of the above exception, another exception occurred:\n",
      "\u001b[1;31mTypeError\u001b[0m                                 Traceback (most recent call last)",
      "Cell \u001b[1;32mIn[6], line 10\u001b[0m\n\u001b[0;32m      2\u001b[0m inputs \u001b[39m=\u001b[39m tf\u001b[39m.\u001b[39mcompat\u001b[39m.\u001b[39mv1\u001b[39m.\u001b[39mplaceholder(\n\u001b[0;32m      3\u001b[0m     tf\u001b[39m.\u001b[39mfloat32,\n\u001b[0;32m      4\u001b[0m     shape \u001b[39m=\u001b[39m (\u001b[39mNone\u001b[39;00m, \u001b[39m2\u001b[39m),\n\u001b[0;32m      5\u001b[0m     name \u001b[39m=\u001b[39m \u001b[39m'\u001b[39m\u001b[39minputs\u001b[39m\u001b[39m'\u001b[39m\n\u001b[0;32m      6\u001b[0m )\n\u001b[0;32m      7\u001b[0m feed_dict \u001b[39m=\u001b[39m {\n\u001b[0;32m      8\u001b[0m     \u001b[39m'\u001b[39m\u001b[39minputs\u001b[39m\u001b[39m'\u001b[39m: [[\u001b[39m1.1\u001b[39m, \u001b[39m-\u001b[39m\u001b[39m0.3\u001b[39m], [\u001b[39m0.2\u001b[39m, \u001b[39m0.1\u001b[39m]]\n\u001b[0;32m      9\u001b[0m }\n\u001b[1;32m---> 10\u001b[0m arr \u001b[39m=\u001b[39m sess\u001b[39m.\u001b[39;49mrun(inputs, feed_dict \u001b[39m=\u001b[39;49m feed_dict)\n\u001b[0;32m     11\u001b[0m \u001b[39mprint\u001b[39m(arr)\n",
      "File \u001b[1;32mc:\\Users\\vaasawa\\Documents\\GitHub\\DSA\\.venv\\lib\\site-packages\\tensorflow\\python\\client\\session.py:968\u001b[0m, in \u001b[0;36mBaseSession.run\u001b[1;34m(self, fetches, feed_dict, options, run_metadata)\u001b[0m\n\u001b[0;32m    965\u001b[0m run_metadata_ptr \u001b[39m=\u001b[39m tf_session\u001b[39m.\u001b[39mTF_NewBuffer() \u001b[39mif\u001b[39;00m run_metadata \u001b[39melse\u001b[39;00m \u001b[39mNone\u001b[39;00m\n\u001b[0;32m    967\u001b[0m \u001b[39mtry\u001b[39;00m:\n\u001b[1;32m--> 968\u001b[0m   result \u001b[39m=\u001b[39m \u001b[39mself\u001b[39;49m\u001b[39m.\u001b[39;49m_run(\u001b[39mNone\u001b[39;49;00m, fetches, feed_dict, options_ptr,\n\u001b[0;32m    969\u001b[0m                      run_metadata_ptr)\n\u001b[0;32m    970\u001b[0m   \u001b[39mif\u001b[39;00m run_metadata:\n\u001b[0;32m    971\u001b[0m     proto_data \u001b[39m=\u001b[39m tf_session\u001b[39m.\u001b[39mTF_GetBuffer(run_metadata_ptr)\n",
      "File \u001b[1;32mc:\\Users\\vaasawa\\Documents\\GitHub\\DSA\\.venv\\lib\\site-packages\\tensorflow\\python\\client\\session.py:1135\u001b[0m, in \u001b[0;36mBaseSession._run\u001b[1;34m(self, handle, fetches, feed_dict, options, run_metadata)\u001b[0m\n\u001b[0;32m   1132\u001b[0m   subfeed_t \u001b[39m=\u001b[39m \u001b[39mself\u001b[39m\u001b[39m.\u001b[39mgraph\u001b[39m.\u001b[39mas_graph_element(\n\u001b[0;32m   1133\u001b[0m       subfeed, allow_tensor\u001b[39m=\u001b[39m\u001b[39mTrue\u001b[39;00m, allow_operation\u001b[39m=\u001b[39m\u001b[39mFalse\u001b[39;00m)\n\u001b[0;32m   1134\u001b[0m \u001b[39mexcept\u001b[39;00m \u001b[39mException\u001b[39;00m \u001b[39mas\u001b[39;00m e:\n\u001b[1;32m-> 1135\u001b[0m   \u001b[39mraise\u001b[39;00m \u001b[39mTypeError\u001b[39;00m(\n\u001b[0;32m   1136\u001b[0m       \u001b[39mf\u001b[39m\u001b[39m'\u001b[39m\u001b[39mCannot interpret feed_dict key as Tensor: \u001b[39m\u001b[39m{\u001b[39;00me\u001b[39m.\u001b[39margs[\u001b[39m0\u001b[39m]\u001b[39m}\u001b[39;00m\u001b[39m'\u001b[39m)\n\u001b[0;32m   1138\u001b[0m \u001b[39mif\u001b[39;00m \u001b[39misinstance\u001b[39m(subfeed_val, ops\u001b[39m.\u001b[39mTensor):\n\u001b[0;32m   1139\u001b[0m   \u001b[39mraise\u001b[39;00m \u001b[39mTypeError\u001b[39;00m(\n\u001b[0;32m   1140\u001b[0m       \u001b[39m'\u001b[39m\u001b[39mThe value of a feed cannot be a tf.Tensor object. Acceptable \u001b[39m\u001b[39m'\u001b[39m\n\u001b[0;32m   1141\u001b[0m       \u001b[39m'\u001b[39m\u001b[39mfeed values include Python scalars, strings, lists, numpy \u001b[39m\u001b[39m'\u001b[39m\n\u001b[0;32m   1142\u001b[0m       \u001b[39m'\u001b[39m\u001b[39mndarrays, or TensorHandles. For reference, the tensor object \u001b[39m\u001b[39m'\u001b[39m\n\u001b[0;32m   1143\u001b[0m       \u001b[39mf\u001b[39m\u001b[39m'\u001b[39m\u001b[39mwas \u001b[39m\u001b[39m{\u001b[39;00m\u001b[39mstr\u001b[39m(feed_val)\u001b[39m}\u001b[39;00m\u001b[39m which was passed to the argument \u001b[39m\u001b[39m'\u001b[39m\n\u001b[0;32m   1144\u001b[0m       \u001b[39mf\u001b[39m\u001b[39m'\u001b[39m\u001b[39m`feed_dict` with key \u001b[39m\u001b[39m{\u001b[39;00m\u001b[39mstr\u001b[39m(feed)\u001b[39m}\u001b[39;00m\u001b[39m.\u001b[39m\u001b[39m'\u001b[39m)\n",
      "\u001b[1;31mTypeError\u001b[0m: Cannot interpret feed_dict key as Tensor: The name 'inputs' refers to an Operation, not a Tensor. Tensor names must be of the form \"<op_name>:<output_index>\"."
     ]
    }
   ],
   "source": [
    "with tf.compat.v1.Session() as sess:\n",
    "    inputs = tf.compat.v1.placeholder(\n",
    "        tf.float32,\n",
    "        shape = (None, 2),\n",
    "        name = 'inputs'\n",
    "    )\n",
    "    feed_dict = {\n",
    "        'inputs': [[1.1, -0.3], [0.2, 0.1]]\n",
    "    }\n",
    "    arr = sess.run(inputs, feed_dict = feed_dict)\n",
    "    print(arr)"
   ]
  },
  {
   "cell_type": "code",
   "execution_count": 3,
   "metadata": {},
   "outputs": [
    {
     "name": "stdout",
     "output_type": "stream",
     "text": [
      "[1 2 3]\n"
     ]
    },
    {
     "ename": "TypeError",
     "evalue": "Cannot interpret feed_dict key as Tensor: The name 'inputs' looks like an (invalid) Operation name, not a Tensor. Tensor names must be of the form \"<op_name>:<output_index>\".",
     "output_type": "error",
     "traceback": [
      "\u001b[1;31m---------------------------------------------------------------------------\u001b[0m",
      "\u001b[1;31mValueError\u001b[0m                                Traceback (most recent call last)",
      "File \u001b[1;32mc:\\Users\\vaasawa\\Documents\\GitHub\\DSA\\.venv\\lib\\site-packages\\tensorflow\\python\\client\\session.py:1132\u001b[0m, in \u001b[0;36mBaseSession._run\u001b[1;34m(self, handle, fetches, feed_dict, options, run_metadata)\u001b[0m\n\u001b[0;32m   1131\u001b[0m \u001b[39mtry\u001b[39;00m:\n\u001b[1;32m-> 1132\u001b[0m   subfeed_t \u001b[39m=\u001b[39m \u001b[39mself\u001b[39;49m\u001b[39m.\u001b[39;49mgraph\u001b[39m.\u001b[39;49mas_graph_element(\n\u001b[0;32m   1133\u001b[0m       subfeed, allow_tensor\u001b[39m=\u001b[39;49m\u001b[39mTrue\u001b[39;49;00m, allow_operation\u001b[39m=\u001b[39;49m\u001b[39mFalse\u001b[39;49;00m)\n\u001b[0;32m   1134\u001b[0m \u001b[39mexcept\u001b[39;00m \u001b[39mException\u001b[39;00m \u001b[39mas\u001b[39;00m e:\n",
      "File \u001b[1;32mc:\\Users\\vaasawa\\Documents\\GitHub\\DSA\\.venv\\lib\\site-packages\\tensorflow\\python\\framework\\ops.py:4012\u001b[0m, in \u001b[0;36mGraph.as_graph_element\u001b[1;34m(self, obj, allow_tensor, allow_operation)\u001b[0m\n\u001b[0;32m   4011\u001b[0m \u001b[39mwith\u001b[39;00m \u001b[39mself\u001b[39m\u001b[39m.\u001b[39m_lock:\n\u001b[1;32m-> 4012\u001b[0m   \u001b[39mreturn\u001b[39;00m \u001b[39mself\u001b[39;49m\u001b[39m.\u001b[39;49m_as_graph_element_locked(obj, allow_tensor, allow_operation)\n",
      "File \u001b[1;32mc:\\Users\\vaasawa\\Documents\\GitHub\\DSA\\.venv\\lib\\site-packages\\tensorflow\\python\\framework\\ops.py:4086\u001b[0m, in \u001b[0;36mGraph._as_graph_element_locked\u001b[1;34m(self, obj, allow_tensor, allow_operation)\u001b[0m\n\u001b[0;32m   4084\u001b[0m     err_msg \u001b[39m+\u001b[39m\u001b[39m=\u001b[39m (\u001b[39m\"\u001b[39m\u001b[39m Tensor names must be of the form \u001b[39m\u001b[39m\"\u001b[39m\n\u001b[0;32m   4085\u001b[0m                 \u001b[39m\"\u001b[39m\u001b[39m\\\"\u001b[39;00m\u001b[39m<op_name>:<output_index>\u001b[39m\u001b[39m\\\"\u001b[39;00m\u001b[39m.\u001b[39m\u001b[39m\"\u001b[39m)\n\u001b[1;32m-> 4086\u001b[0m     \u001b[39mraise\u001b[39;00m \u001b[39mValueError\u001b[39;00m(err_msg)\n\u001b[0;32m   4088\u001b[0m \u001b[39melif\u001b[39;00m \u001b[39misinstance\u001b[39m(obj, Tensor) \u001b[39mand\u001b[39;00m allow_tensor:\n\u001b[0;32m   4089\u001b[0m   \u001b[39m# Actually obj is just the object it's referring to.\u001b[39;00m\n",
      "\u001b[1;31mValueError\u001b[0m: The name 'inputs' looks like an (invalid) Operation name, not a Tensor. Tensor names must be of the form \"<op_name>:<output_index>\".",
      "\nDuring handling of the above exception, another exception occurred:\n",
      "\u001b[1;31mTypeError\u001b[0m                                 Traceback (most recent call last)",
      "Cell \u001b[1;32mIn[3], line 20\u001b[0m\n\u001b[0;32m     13\u001b[0m     inputs \u001b[39m=\u001b[39m tf\u001b[39m.\u001b[39mcompat\u001b[39m.\u001b[39mv1\u001b[39m.\u001b[39mplaceholder(\n\u001b[0;32m     14\u001b[0m         tf\u001b[39m.\u001b[39mfloat32,\n\u001b[0;32m     15\u001b[0m         shape \u001b[39m=\u001b[39m (\u001b[39mNone\u001b[39;00m, \u001b[39m2\u001b[39m)\n\u001b[0;32m     16\u001b[0m     )\n\u001b[0;32m     17\u001b[0m     feed_dict \u001b[39m=\u001b[39m {\n\u001b[0;32m     18\u001b[0m         \u001b[39m'\u001b[39m\u001b[39minputs\u001b[39m\u001b[39m'\u001b[39m: [[\u001b[39m1.1\u001b[39m, \u001b[39m-\u001b[39m\u001b[39m0.3\u001b[39m], [\u001b[39m0.2\u001b[39m, \u001b[39m0.1\u001b[39m]]\n\u001b[0;32m     19\u001b[0m     }\n\u001b[1;32m---> 20\u001b[0m     arr \u001b[39m=\u001b[39m sess\u001b[39m.\u001b[39;49mrun(inputs, feed_dict \u001b[39m=\u001b[39;49m feed_dict)\n\u001b[0;32m     21\u001b[0m     \u001b[39mprint\u001b[39m(arr)\n\u001b[0;32m     23\u001b[0m \u001b[39mwith\u001b[39;00m tf\u001b[39m.\u001b[39mcompat\u001b[39m.\u001b[39mv1\u001b[39m.\u001b[39mSession() \u001b[39mas\u001b[39;00m sess:\n",
      "File \u001b[1;32mc:\\Users\\vaasawa\\Documents\\GitHub\\DSA\\.venv\\lib\\site-packages\\tensorflow\\python\\client\\session.py:968\u001b[0m, in \u001b[0;36mBaseSession.run\u001b[1;34m(self, fetches, feed_dict, options, run_metadata)\u001b[0m\n\u001b[0;32m    965\u001b[0m run_metadata_ptr \u001b[39m=\u001b[39m tf_session\u001b[39m.\u001b[39mTF_NewBuffer() \u001b[39mif\u001b[39;00m run_metadata \u001b[39melse\u001b[39;00m \u001b[39mNone\u001b[39;00m\n\u001b[0;32m    967\u001b[0m \u001b[39mtry\u001b[39;00m:\n\u001b[1;32m--> 968\u001b[0m   result \u001b[39m=\u001b[39m \u001b[39mself\u001b[39;49m\u001b[39m.\u001b[39;49m_run(\u001b[39mNone\u001b[39;49;00m, fetches, feed_dict, options_ptr,\n\u001b[0;32m    969\u001b[0m                      run_metadata_ptr)\n\u001b[0;32m    970\u001b[0m   \u001b[39mif\u001b[39;00m run_metadata:\n\u001b[0;32m    971\u001b[0m     proto_data \u001b[39m=\u001b[39m tf_session\u001b[39m.\u001b[39mTF_GetBuffer(run_metadata_ptr)\n",
      "File \u001b[1;32mc:\\Users\\vaasawa\\Documents\\GitHub\\DSA\\.venv\\lib\\site-packages\\tensorflow\\python\\client\\session.py:1135\u001b[0m, in \u001b[0;36mBaseSession._run\u001b[1;34m(self, handle, fetches, feed_dict, options, run_metadata)\u001b[0m\n\u001b[0;32m   1132\u001b[0m   subfeed_t \u001b[39m=\u001b[39m \u001b[39mself\u001b[39m\u001b[39m.\u001b[39mgraph\u001b[39m.\u001b[39mas_graph_element(\n\u001b[0;32m   1133\u001b[0m       subfeed, allow_tensor\u001b[39m=\u001b[39m\u001b[39mTrue\u001b[39;00m, allow_operation\u001b[39m=\u001b[39m\u001b[39mFalse\u001b[39;00m)\n\u001b[0;32m   1134\u001b[0m \u001b[39mexcept\u001b[39;00m \u001b[39mException\u001b[39;00m \u001b[39mas\u001b[39;00m e:\n\u001b[1;32m-> 1135\u001b[0m   \u001b[39mraise\u001b[39;00m \u001b[39mTypeError\u001b[39;00m(\n\u001b[0;32m   1136\u001b[0m       \u001b[39mf\u001b[39m\u001b[39m'\u001b[39m\u001b[39mCannot interpret feed_dict key as Tensor: \u001b[39m\u001b[39m{\u001b[39;00me\u001b[39m.\u001b[39margs[\u001b[39m0\u001b[39m]\u001b[39m}\u001b[39;00m\u001b[39m'\u001b[39m)\n\u001b[0;32m   1138\u001b[0m \u001b[39mif\u001b[39;00m \u001b[39misinstance\u001b[39m(subfeed_val, ops\u001b[39m.\u001b[39mTensor):\n\u001b[0;32m   1139\u001b[0m   \u001b[39mraise\u001b[39;00m \u001b[39mTypeError\u001b[39;00m(\n\u001b[0;32m   1140\u001b[0m       \u001b[39m'\u001b[39m\u001b[39mThe value of a feed cannot be a tf.Tensor object. Acceptable \u001b[39m\u001b[39m'\u001b[39m\n\u001b[0;32m   1141\u001b[0m       \u001b[39m'\u001b[39m\u001b[39mfeed values include Python scalars, strings, lists, numpy \u001b[39m\u001b[39m'\u001b[39m\n\u001b[0;32m   1142\u001b[0m       \u001b[39m'\u001b[39m\u001b[39mndarrays, or TensorHandles. For reference, the tensor object \u001b[39m\u001b[39m'\u001b[39m\n\u001b[0;32m   1143\u001b[0m       \u001b[39mf\u001b[39m\u001b[39m'\u001b[39m\u001b[39mwas \u001b[39m\u001b[39m{\u001b[39;00m\u001b[39mstr\u001b[39m(feed_val)\u001b[39m}\u001b[39;00m\u001b[39m which was passed to the argument \u001b[39m\u001b[39m'\u001b[39m\n\u001b[0;32m   1144\u001b[0m       \u001b[39mf\u001b[39m\u001b[39m'\u001b[39m\u001b[39m`feed_dict` with key \u001b[39m\u001b[39m{\u001b[39;00m\u001b[39mstr\u001b[39m(feed)\u001b[39m}\u001b[39;00m\u001b[39m.\u001b[39m\u001b[39m'\u001b[39m)\n",
      "\u001b[1;31mTypeError\u001b[0m: Cannot interpret feed_dict key as Tensor: The name 'inputs' looks like an (invalid) Operation name, not a Tensor. Tensor names must be of the form \"<op_name>:<output_index>\"."
     ]
    }
   ],
   "source": [
    "\n",
    "\n",
    "\n",
    "\n",
    "with tf.compat.v1.Session() as sess:\n",
    "    inputs = tf.compat.v1.placeholder(\n",
    "        tf.float32, shape = (None, 2)\n",
    "    )\n",
    "    logits=  tf.keras.layers.Dense(units=1, name='logits')(inputs)\n",
    "    feed_dict = {\n",
    "        'inputs': [[1.1, -0.3],[0.2, 0.1]]\n",
    "    }\n",
    "    init_op = tf.compat.v1.global_variables_initializer()\n",
    "    sess.run(init_op)\n",
    "    arr = sess.run(logits, feed_dict = feed_dict)\n",
    "    print(arr)"
   ]
  },
  {
   "cell_type": "code",
   "execution_count": null,
   "metadata": {},
   "outputs": [],
   "source": []
  }
 ],
 "metadata": {
  "kernelspec": {
   "display_name": ".venv",
   "language": "python",
   "name": "python3"
  },
  "language_info": {
   "codemirror_mode": {
    "name": "ipython",
    "version": 3
   },
   "file_extension": ".py",
   "mimetype": "text/x-python",
   "name": "python",
   "nbconvert_exporter": "python",
   "pygments_lexer": "ipython3",
   "version": "3.8.0"
  },
  "orig_nbformat": 4
 },
 "nbformat": 4,
 "nbformat_minor": 2
}
