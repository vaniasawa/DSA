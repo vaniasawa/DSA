{
 "cells": [
  {
   "cell_type": "code",
   "execution_count": null,
   "metadata": {},
   "outputs": [],
   "source": [
    "import numpy as np\n",
    "data = np.array([\n",
    "  [1.2, 3.3, 1.4],\n",
    "  [5.1, 2.2, 6.6]])\n",
    "import xgboost as xgb\n",
    "dmat1 = xgb.DMatrix(data)\n",
    "\n",
    "labels = np.array([0, 1])\n",
    "dmat2 = xgb.DMatrix(data, label=labels)"
   ]
  },
  {
   "cell_type": "code",
   "execution_count": null,
   "metadata": {},
   "outputs": [],
   "source": [
    "# https://xgboost.readthedocs.io/en/latest/parameter.html\n",
    "params = {\n",
    "  'max_depth': 5,\n",
    "  'objective': 'binary:logistic',\n",
    "  'eval_metric':'logloss'\n",
    "}\n",
    "print('Start training')\n",
    "booster = xgb.train(params, dmat2)  # booster\n",
    "print('Finish training')"
   ]
  },
  {
   "cell_type": "code",
   "execution_count": null,
   "metadata": {},
   "outputs": [],
   "source": [
    "predictions = booster.predict(dmat2)\n",
    "print(predictions)"
   ]
  },
  {
   "cell_type": "code",
   "execution_count": null,
   "metadata": {},
   "outputs": [],
   "source": [
    "dtrain = xgb.DMatrix(data, label=labels)\n",
    "params = {\n",
    "  'max_depth': 2,\n",
    "  'lambda': 1.5,\n",
    "  'objective':'binary:logistic',\n",
    "  'eval_metric':'logloss'\n",
    "\n",
    "}\n",
    "\n",
    "# Instead of train, use cv - for Cross Validation training\n",
    "cv_results = xgb.cv(params, dtrain, nfold=5)\n",
    "print('CV Results:\\n{}'.format(cv_results))"
   ]
  },
  {
   "cell_type": "code",
   "execution_count": null,
   "metadata": {},
   "outputs": [],
   "source": [
    "model = xgb.XGBClassifier(num_class = 2, objective='multi:softmax', eval_metric='mlogloss', use_label_encoder=False)\n",
    "# predefined data and labels (multiclass dataset)\n",
    "model.fit(data, labels)\n",
    "\n",
    "# new_data contains 2 new data observations\n",
    "predictions = model.predict(data)\n",
    "print('Predictions:\\n{}'.format(repr(predictions)))\n"
   ]
  },
  {
   "cell_type": "code",
   "execution_count": null,
   "metadata": {},
   "outputs": [],
   "source": [
    "repr(model.feature_importances_)"
   ]
  }
 ],
 "metadata": {
  "kernelspec": {
   "display_name": ".venv",
   "language": "python",
   "name": "python3"
  },
  "language_info": {
   "codemirror_mode": {
    "name": "ipython",
    "version": 3
   },
   "file_extension": ".py",
   "mimetype": "text/x-python",
   "name": "python",
   "nbconvert_exporter": "python",
   "pygments_lexer": "ipython3",
   "version": "3.8.0"
  },
  "orig_nbformat": 4
 },
 "nbformat": 4,
 "nbformat_minor": 2
}
